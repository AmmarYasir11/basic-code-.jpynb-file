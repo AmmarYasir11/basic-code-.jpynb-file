{
 "cells": [
  {
   "cell_type": "markdown",
   "id": "be4670ab",
   "metadata": {},
   "source": [
    "1. Write a program that inputs radius of sphere from the user. Calculates its volume and surface area using the formula Area = 4πR² and circumference = 4/3πR³ where π=3.14."
   ]
  },
  {
   "cell_type": "code",
   "execution_count": 15,
   "id": "c71d5393",
   "metadata": {},
   "outputs": [
    {
     "name": "stdout",
     "output_type": "stream",
     "text": [
      "Surface Area of the sphere: 2122.64\n",
      "Volume of the sphere: 9198.106666666667\n"
     ]
    }
   ],
   "source": [
    "import math\n",
    "r= float(input(\"enter the radius:\"))\n",
    "volume=4*3.14*r*r\n",
    "cir=4/3*3.14*r*r*r\n",
    "print(f\"Surface Area of the sphere:\",volume)\n",
    "print(f\"Volume of the sphere:\",cir)\n",
    "\n",
    "\n"
   ]
  },
  {
   "cell_type": "markdown",
   "id": "164e0e05",
   "metadata": {},
   "source": [
    "2. Write a program to find out the area of a triangle when three sides a, b and c of the triangle are given. Use appropriate statements to input the values of a, b and c from the keyboard. Formula for the area of triangle is area = √s(s-a)(s-b)(s-c) where s = (a+b+c)/2."
   ]
  },
  {
   "cell_type": "code",
   "execution_count": 30,
   "id": "e830af11",
   "metadata": {},
   "outputs": [
    {
     "name": "stdout",
     "output_type": "stream",
     "text": [
      "the value of s: 20.5\n",
      "the are of triangle is: 78.92678569408487\n"
     ]
    }
   ],
   "source": [
    "import math\n",
    "a=float(input(\"enter the value of a:\"))\n",
    "b=float(input(\"enter the value of b:\"))\n",
    "c=float(input(\"enter the value of c:\"))\n",
    "s=(a+b+c)/2\n",
    "area = math.sqrt(s*(s-a)*(s-b)*(s-c))\n",
    "print(f\"the value of s:\",s)\n",
    "print(f\"the are of triangle is:\",area)\n",
    "\n"
   ]
  },
  {
   "cell_type": "markdown",
   "id": "897b5cfc",
   "metadata": {},
   "source": [
    "3. Write a program that inputs miles from the user and converts miles into kilometers. One mile is equal to 1.609 kilometer."
   ]
  },
  {
   "cell_type": "code",
   "execution_count": 39,
   "id": "ea93b248",
   "metadata": {},
   "outputs": [
    {
     "name": "stdout",
     "output_type": "stream",
     "text": [
      "22.526 km\n"
     ]
    }
   ],
   "source": [
    "import math\n",
    "miles=float(input(\"enter the number of miles:\"))\n",
    "kilometer= miles*1.609\n",
    "print(kilometer,\"km\")"
   ]
  },
  {
   "cell_type": "markdown",
   "id": "844f0f9c",
   "metadata": {},
   "source": [
    "4. Write a program that inputs 4 numbers and calculates the sum, average, and product of all the numbers."
   ]
  },
  {
   "cell_type": "code",
   "execution_count": 42,
   "id": "f2f34e49",
   "metadata": {},
   "outputs": [
    {
     "name": "stdout",
     "output_type": "stream",
     "text": [
      "the sum of four numbers: 14\n",
      "the average of four numbers: 3.5\n",
      "the product of four numbers: 120\n"
     ]
    }
   ],
   "source": [
    "import math\n",
    "a=int(input(\"enter the first number:\"))\n",
    "b=int(input(\"enter the second number:\"))\n",
    "c=int(input(\"enter the  third number:\"))\n",
    "d=int(input(\"enter the  fourth number:\"))\n",
    "sum= a+b+c+d\n",
    "average= sum/4\n",
    "product=a*b*c*d\n",
    "print(\"the sum of four numbers:\",sum)\n",
    "print(\"the average of four numbers:\",average)\n",
    "print(\"the product of four numbers:\",product)\n"
   ]
  },
  {
   "cell_type": "markdown",
   "id": "bdde523e",
   "metadata": {},
   "source": [
    "5. Write a program that inputs age in years and displays age in days and months"
   ]
  },
  {
   "cell_type": "code",
   "execution_count": 45,
   "id": "001e9810",
   "metadata": {},
   "outputs": [
    {
     "name": "stdout",
     "output_type": "stream",
     "text": [
      "8030 days\n",
      "264 months\n"
     ]
    }
   ],
   "source": [
    "import math\n",
    "a=int(input(\"enter age in years:\"))\n",
    "dys=a*365\n",
    "mts=a*12\n",
    "print(dys,\"days\")\n",
    "print(mts,\"months\")"
   ]
  },
  {
   "cell_type": "markdown",
   "id": "1e3093c9",
   "metadata": {},
   "source": [
    "6. Write a program that inputs a number from user and displays its square and cube."
   ]
  },
  {
   "cell_type": "code",
   "execution_count": 48,
   "id": "533205bf",
   "metadata": {},
   "outputs": [
    {
     "name": "stdout",
     "output_type": "stream",
     "text": [
      "16.0 this is the square:\n",
      "64.0 this is the cube\n"
     ]
    }
   ],
   "source": [
    "import math\n",
    "a=float(input(\"enter the number : \"))\n",
    "b= a*a\n",
    "c=a*a*a\n",
    "print(b,\"this is the square:\")\n",
    "print(c,\"this is the cube\")"
   ]
  },
  {
   "cell_type": "markdown",
   "id": "507eafe9",
   "metadata": {},
   "source": [
    "7. Write a program that inputs total pages of a book, number of pages a person reads in one day and number of days a person has read the book. It displays number of pages that have been read and number of pages remaining"
   ]
  },
  {
   "cell_type": "code",
   "execution_count": 50,
   "id": "db5238aa",
   "metadata": {},
   "outputs": [
    {
     "name": "stdout",
     "output_type": "stream",
     "text": [
      "the number of page read: 200\n",
      "the number of page remaining: 100\n"
     ]
    }
   ],
   "source": [
    "import math\n",
    "a=int(input(\"enter the total number of pages of book:\"))\n",
    "b=int(input(\"enter the number of pages a person read in a day:\"))\n",
    "c=int(input(\"enter the number of days a person read the book: \"))\n",
    "pgread=b*c\n",
    "pgremain=a-pgread\n",
    "print(\"the number of page read:\",pgread)\n",
    "print(\"the number of page remaining:\",pgremain)\n"
   ]
  },
  {
   "cell_type": "markdown",
   "id": "93f15a45",
   "metadata": {},
   "source": [
    "8. A car can travel 5.3 miles in 1 liter. Write a program that inputs petrol in liters and displays how much distance the car can cover using the available petrol."
   ]
  },
  {
   "cell_type": "code",
   "execution_count": 52,
   "id": "f90472bb",
   "metadata": {},
   "outputs": [
    {
     "name": "stdout",
     "output_type": "stream",
     "text": [
      "10.6 miles\n"
     ]
    }
   ],
   "source": [
    "import math\n",
    "a=float(input(\"enter the petrol in liters:\"))\n",
    "b=a*5.3\n",
    "print(b,\"miles\")"
   ]
  },
  {
   "cell_type": "markdown",
   "id": "35392df7",
   "metadata": {},
   "source": [
    "9. Write a program that inputs total number of student in a class and fee per student. It displays total fee collected from the class."
   ]
  },
  {
   "cell_type": "code",
   "execution_count": 2,
   "id": "df2bd31f",
   "metadata": {},
   "outputs": [
    {
     "name": "stdout",
     "output_type": "stream",
     "text": [
      "the total fees is 60000\n"
     ]
    }
   ],
   "source": [
    "import math\n",
    "a=int(input(\"enter the number of students:\"))\n",
    "b=int(input(\"enter the fee of the student:\"))\n",
    "sum=a*b\n",
    "print(\"the total fees is\",sum)"
   ]
  },
  {
   "cell_type": "markdown",
   "id": "e0458ee2",
   "metadata": {},
   "source": [
    "10. Write a program that inputs temperature from the user in Fahrenheit and converts it into Celsius degree using formula C = 5/9 (F - 32)."
   ]
  },
  {
   "cell_type": "code",
   "execution_count": null,
   "id": "2b702676",
   "metadata": {},
   "outputs": [
    {
     "name": "stdout",
     "output_type": "stream",
     "text": [
      "-11.11111111111111 celcious\n"
     ]
    }
   ],
   "source": [
    "import math\n",
    "f=int(input(\"enter the temp in farehanheit:\"))\n",
    "c=5/9*(f-32)\n",
    "print(c,\"celcious:\")\n",
    "\n"
   ]
  },
  {
   "cell_type": "markdown",
   "id": "e79ee677",
   "metadata": {},
   "source": [
    "11. Write a program that inputs a 3-digit number and displays its digits in separate three lines."
   ]
  },
  {
   "cell_type": "code",
   "execution_count": 25,
   "id": "c59c6075",
   "metadata": {},
   "outputs": [
    {
     "name": "stdout",
     "output_type": "stream",
     "text": [
      "1\n",
      "2\n",
      "3\n"
     ]
    }
   ],
   "source": [
    "a=input(\"enter the three digit number:\")\n",
    "print(a[0])\n",
    "print(a[1])\n",
    "print(a[2])\n"
   ]
  },
  {
   "cell_type": "markdown",
   "id": "6d53b62e",
   "metadata": {},
   "source": [
    "12. Write a program to calculate the volume (V) of a cube by taking measures from the user. (Formula: V = length * width * height)"
   ]
  },
  {
   "cell_type": "code",
   "execution_count": 9,
   "id": "46a18c85",
   "metadata": {},
   "outputs": [
    {
     "name": "stdout",
     "output_type": "stream",
     "text": [
      "volume: 1800.0\n"
     ]
    }
   ],
   "source": [
    "import math\n",
    "a=float(input(\"enter the length:\"))\n",
    "b=float(input(\"enter the width:\"))\n",
    "c=float(input(\"enter the height:\"))\n",
    "v=a*b*c\n",
    "print(\"volume:\",v)"
   ]
  },
  {
   "cell_type": "markdown",
   "id": "82df97e2",
   "metadata": {},
   "source": [
    "13. Write a program that inputs the x, y coordinates for two points and computes the distance between two points using the formula: Distance = √[(x2 - x1)² + (y2 - y1)²]"
   ]
  },
  {
   "cell_type": "code",
   "execution_count": 19,
   "id": "57dd44c3",
   "metadata": {},
   "outputs": [
    {
     "name": "stdout",
     "output_type": "stream",
     "text": [
      "the distance is: 2.8284271247461903\n"
     ]
    }
   ],
   "source": [
    "import math\n",
    "x1=float(input(\"enter the x1 cordinate:\"))\n",
    "y1=float(input(\"enter the y1 cordinate:\"))\n",
    "x2=float(input(\"enter the x2 cordinate:\"))\n",
    "y2=float(input(\"enter the y2 cordinate:\"))\n",
    "distance= math.sqrt(((x2-x1)*(x2-x1))+((y2-y1)*(y2-y1)))\n",
    "print(\"the distance is:\",distance)"
   ]
  },
  {
   "cell_type": "markdown",
   "id": "2f98b94a",
   "metadata": {},
   "source": [
    "14. Write a program to swap the values of three variables with using fourth variable."
   ]
  },
  {
   "cell_type": "code",
   "execution_count": 28,
   "id": "c7971e47",
   "metadata": {},
   "outputs": [
    {
     "name": "stdout",
     "output_type": "stream",
     "text": [
      "2 a\n",
      "3 b\n",
      "1 c\n"
     ]
    }
   ],
   "source": [
    "a=1\n",
    "b=2\n",
    "c=3\n",
    "temp=a\n",
    "a=b\n",
    "b=c\n",
    "c=temp\n",
    "print(a,\"a\")\n",
    "print(b,\"b\")\n",
    "print(c,\"c\")"
   ]
  },
  {
   "cell_type": "markdown",
   "id": "164a1642",
   "metadata": {},
   "source": [
    "15. Write a program that calculates the arc of length of a convex lens by taking radius of arc and angle made by arc. (Formula: length = radius * angle)"
   ]
  },
  {
   "cell_type": "code",
   "execution_count": 30,
   "id": "437b43f9",
   "metadata": {},
   "outputs": [
    {
     "name": "stdout",
     "output_type": "stream",
     "text": [
      "the lenght is: 240\n"
     ]
    }
   ],
   "source": [
    "import math\n",
    "a=int(input(\"enter the radius of arc:\"))\n",
    "b=int(input(\"enter the angle of the arc:\"))\n",
    "length=a*b\n",
    "print(\"the lenght is:\",length)"
   ]
  },
  {
   "cell_type": "markdown",
   "id": "868fd53e",
   "metadata": {},
   "source": [
    "16. Write a program that inputs pounds from the user and converts it into kilograms."
   ]
  },
  {
   "cell_type": "code",
   "execution_count": 31,
   "id": "195e3c52",
   "metadata": {},
   "outputs": [
    {
     "name": "stdout",
     "output_type": "stream",
     "text": [
      "one pound=0.453592\n",
      "9.979023999999999 kg\n"
     ]
    }
   ],
   "source": [
    "import math \n",
    "a=float(input(\"enter the weight in ponds:\"))\n",
    "b=a*0.453592\n",
    "print(\"one pound=0.453592\")\n",
    "print(b,\"kg\")"
   ]
  },
  {
   "cell_type": "markdown",
   "id": "cd3f3034",
   "metadata": {},
   "source": [
    "17. Write a program that computes the area of a sector of a circle when theta is the angle in radians between the radii.\n",
    "(Note: The formula for the area of a sector is Area = (1/2) * r² * θ, where θ is in radians.)"
   ]
  },
  {
   "cell_type": "code",
   "execution_count": 33,
   "id": "a6718adb",
   "metadata": {},
   "outputs": [
    {
     "name": "stdout",
     "output_type": "stream",
     "text": [
      "area of the circle is: 1350.0\n"
     ]
    }
   ],
   "source": [
    "import math\n",
    "theta=float(input(\"enter the  value of theta:\"))\n",
    "r=float(input(\"enter the value of radius:\"))\n",
    "area=(1/2)*r*r*theta\n",
    "print(\"area of the circle is:\",area)"
   ]
  },
  {
   "cell_type": "markdown",
   "id": "76ed91e6",
   "metadata": {},
   "source": [
    "18. Write a program that reads a positive number and then computes the logarithm of that value to the base 2."
   ]
  },
  {
   "cell_type": "code",
   "execution_count": 35,
   "id": "1d9440f2",
   "metadata": {},
   "outputs": [
    {
     "name": "stdout",
     "output_type": "stream",
     "text": [
      "1.0 is the log base 2:\n"
     ]
    }
   ],
   "source": [
    "import math\n",
    "a=int(input(\"enter the poistive number=\"))\n",
    "if a>0:\n",
    "    b=math.log2(a)\n",
    "    print(b,\"is the log base 2:\")\n",
    "else:\n",
    "    print(\"this is a negative number\")"
   ]
  },
  {
   "cell_type": "markdown",
   "id": "30ff1473",
   "metadata": {},
   "source": [
    "19. Write a program that inputs Basic Salary and calculates 35% dearness allowance, 25% house rent and then displays the gross salary."
   ]
  },
  {
   "cell_type": "code",
   "execution_count": 39,
   "id": "698c7c01",
   "metadata": {},
   "outputs": [
    {
     "name": "stdout",
     "output_type": "stream",
     "text": [
      "salary befor thr  allowanes: 5000.0\n",
      "the dearness allownce is: 1750.0\n",
      "the house rent allownce is: 1250.0\n",
      "salary after the allownce: 8000.0\n"
     ]
    }
   ],
   "source": [
    "import math\n",
    "salary=float(input(\"enter the basic salary:\"))\n",
    "da=0.35*salary\n",
    "hr=0.25*salary\n",
    "new_salary=salary+da+hr\n",
    "print(\"salary befor thr  allowanes:\",salary)\n",
    "print(\"the dearness allownce is:\",da)\n",
    "print(\"the house rent allownce is:\",hr)\n",
    "print(\"salary after the allownce:\", new_salary)"
   ]
  },
  {
   "cell_type": "markdown",
   "id": "2f576eaa",
   "metadata": {},
   "source": [
    "# conditions "
   ]
  },
  {
   "cell_type": "markdown",
   "id": "c4850fad",
   "metadata": {},
   "source": [
    " Senior salesperson is paid Rs. 400 a week, and a junior salesperson is paid Rs. 275 a week. Write a program that accepts as input a salesperson’s status in the character variable status. If status is ‘s’ or ‘S’, the senior person’s salary should be displayed; if status is ‘j’ or ‘J’, the junior person’s salary should be displayed; otherwise display error message."
   ]
  },
  {
   "cell_type": "code",
   "execution_count": null,
   "id": "d0ce4eea",
   "metadata": {},
   "outputs": [],
   "source": [
    "status = input(\"Enter salesperson status (s/S for senior, j/J for junior): \")\n",
    "senior_salary = 400\n",
    "junior_salary = 275\n",
    "if status == 's' or status == 'S':\n",
    "    print(\"Salary:\", senior_salary)\n",
    "elif status == 'j' or status == 'J':\n",
    "    print(\"Salary:\", junior_salary)\n",
    "else:\n",
    "    print(\"Error: Invalid status\")"
   ]
  },
  {
   "cell_type": "markdown",
   "id": "47058917",
   "metadata": {},
   "source": [
    "Write a program to get three numbers from user for integer variables a, b and c. If a is not zero, find out whether it is the common divisor of b and c.\n",
    "(Note: Since we can't use loops, I'll check if a divides b and c by using the modulo operator to see if both b % a and c % a are zero.)"
   ]
  },
  {
   "cell_type": "code",
   "execution_count": null,
   "id": "ca2ff4ca",
   "metadata": {},
   "outputs": [],
   "source": [
    "a = int(input(\"Enter number a: \"))\n",
    "b = int(input(\"Enter number b: \"))\n",
    "c = int(input(\"Enter number c: \"))\n",
    "if a != 0:\n",
    "    if b % a == 0 and c % a == 0:\n",
    "        print(a, \"is a common divisor of\", b, \"and\", c)\n",
    "    else:\n",
    "        print(a, \"is not a common divisor of\", b, \"and\", c)\n",
    "else:\n",
    "    print(\"Error: a cannot be zero\")"
   ]
  },
  {
   "cell_type": "markdown",
   "id": "39b7cfba",
   "metadata": {},
   "source": [
    "Write a program that contains an if statement that may be used to compute the area of a square (area = side * side) or a triangle (area = ½ * base * height) after prompting the user to type the first character of the figure name (S or T)."
   ]
  },
  {
   "cell_type": "code",
   "execution_count": null,
   "id": "bb5b5708",
   "metadata": {},
   "outputs": [],
   "source": [
    "figure = input(\"Enter figure type (S for square, T for triangle): \")\n",
    "if figure == 'S' or figure == 's':\n",
    "    side = float(input(\"Enter side length: \"))\n",
    "    area = side * side\n",
    "    print(\"Area of square:\", area)\n",
    "elif figure == 'T' or figure == 't':\n",
    "    base = float(input(\"Enter base: \"))\n",
    "    height = float(input(\"Enter height: \"))\n",
    "    area = (1 / 2) * base * height\n",
    "    print(\"Area of triangle:\", area)\n",
    "else:\n",
    "    print(\"Error: Invalid figure type\")"
   ]
  },
  {
   "cell_type": "markdown",
   "id": "cd19781c",
   "metadata": {},
   "source": [
    "Write a program that gets the number and a letter. If the letter is ‘f’, the program should treat the number entered as temperature in degrees Fahrenheit and convert it to the temperature in degree Celsius and print a suitable message. If the letter is ‘c’, the program should consider the number as Celsius temperature and convert it to Fahrenheit temperature and print a suitable message. The program should display error message and then exit if the user enters any other letter."
   ]
  },
  {
   "cell_type": "code",
   "execution_count": null,
   "id": "3685e4e7",
   "metadata": {},
   "outputs": [],
   "source": [
    "number = float(input(\"Enter temperature: \"))\n",
    "letter = input(\"Enter temperature type (f for Fahrenheit, c for Celsius): \")\n",
    "if letter == 'f' or letter == 'F':\n",
    "    celsius = (5 / 9) * (number - 32)\n",
    "    print(\"Temperature in Celsius:\", celsius)\n",
    "elif letter == 'c' or letter == 'C':\n",
    "    fahrenheit = (9 / 5) * number + 32\n",
    "    print(\"Temperature in Fahrenheit:\", fahrenheit)\n",
    "else:\n",
    "    print(\"Error: Invalid temperature type\")"
   ]
  },
  {
   "cell_type": "markdown",
   "id": "f16761f7",
   "metadata": {},
   "source": [
    "Write a program that accepts the code number as an input and display the correct disk drive manufacture as follows:\n",
    "\n",
    "Code    disk drive manufacture\n",
    "\n",
    "1       Western Digital\n",
    "\n",
    "2       3M Corporation\n",
    "\n",
    "3       Maxell Corporation\n",
    "\n",
    "4       Sony Corporation\n",
    "\n",
    "5       Verbatim Corporation"
   ]
  },
  {
   "cell_type": "code",
   "execution_count": null,
   "id": "e3db34e1",
   "metadata": {},
   "outputs": [],
   "source": [
    "code = int(input(\"Enter code number: \"))\n",
    "if code == 1:\n",
    "    print(\"Disk drive manufacturer: Western Digital\")\n",
    "elif code == 2:\n",
    "    print(\"Disk drive manufacturer: 3M Corporation\")\n",
    "elif code == 3:\n",
    "    print(\"Disk drive manufacturer: Maxell Corporation\")\n",
    "elif code == 4:\n",
    "    print(\"Disk drive manufacturer: Sony Corporation\")\n",
    "elif code == 5:\n",
    "    print(\"Disk drive manufacturer: Verbatim Corporation\")\n",
    "else:\n",
    "    print(\"Error: Invalid code\")"
   ]
  },
  {
   "cell_type": "markdown",
   "id": "b3f84db3",
   "metadata": {},
   "source": [
    "A year is a leap year if it is divisible by four, except that any year divisible by 100 is a leap year only if it is divisible by 400. Write a program that inputs a year such as 1996, 1800 and 2010 and display \"Leap year\" if it is a leap year otherwise displays \"Not a leap year\"."
   ]
  },
  {
   "cell_type": "code",
   "execution_count": null,
   "id": "34f172ac",
   "metadata": {},
   "outputs": [],
   "source": [
    "year = int(input(\"Enter a year: \"))\n",
    "if year % 400 == 0:\n",
    "    print(\"Leap year\")\n",
    "elif year % 100 == 0:\n",
    "    print(\"Not a leap year\")\n",
    "elif year % 4 == 0:\n",
    "    print(\"Leap year\")\n",
    "else:\n",
    "    print(\"Not a leap year\")"
   ]
  },
  {
   "cell_type": "markdown",
   "id": "667a58cc",
   "metadata": {},
   "source": [
    "Write a program that inputs temperature and displays a message as follows:\n",
    "Temperature            Message\n",
    "\n",
    "Greater than 35        Hot day\n",
    "\n",
    "Between 25 and 35 (inclusive) Pleasant day\n",
    "\n",
    "Less than 25           Cool day"
   ]
  },
  {
   "cell_type": "code",
   "execution_count": null,
   "id": "18e03d5b",
   "metadata": {},
   "outputs": [],
   "source": [
    "temperature = float(input(\"Enter temperature: \"))\n",
    "if temperature > 35:\n",
    "    print(\"Hot day\")\n",
    "elif temperature >= 25 and temperature <= 35:\n",
    "    print(\"Pleasant day\")\n",
    "else:\n",
    "    print(\"Cool day\")"
   ]
  },
  {
   "cell_type": "markdown",
   "id": "dc3ccc02",
   "metadata": {},
   "source": [
    "Write a program that inputs obtained marks of a student, calculates the percentage (assuming total marks are 1100) and displays grade according to the following rules:\n",
    "\n",
    "Percentage                   Grade\n",
    "\n",
    "More than or equal 80          A+\n",
    "\n",
    "Between 70 (inclusive) and 80  A\n",
    "\n",
    "Between 60 (inclusive) and 70  B\n",
    "\n",
    "Between 50 (inclusive) and 60  C\n",
    "\n",
    "Between 40 (inclusive) and 50  D\n",
    "\n",
    "Between 33 (inclusive) and 40  E\n",
    "\n",
    "Less than 33                   F"
   ]
  },
  {
   "cell_type": "code",
   "execution_count": 3,
   "id": "755b22a2",
   "metadata": {},
   "outputs": [
    {
     "name": "stdout",
     "output_type": "stream",
     "text": [
      "A\n",
      "the percentage is: 73.81818181818181\n"
     ]
    }
   ],
   "source": [
    "import math\n",
    "a=float(input(\"enter the marks of student:\"))\n",
    "percent=a/1100*100\n",
    "if percent>=80:\n",
    "    print(\"A+\")\n",
    "elif percent>=70:\n",
    "    print(\"A\")\n",
    "print(\"the percentage is:\",percent)"
   ]
  },
  {
   "cell_type": "markdown",
   "id": "374de44a",
   "metadata": {},
   "source": [
    "Write a program that will take three values a, b and c and print the roots, if real, of the quadratic equation **ax² + bx + c = 0**. Sample input 1: (a=1, b=1, c=-6 the output should be \"Roots of the equation are 2 and -3\"). Sample input 2 (if the input is a=1, b=0, c=9, the output should be \"Sorry the roots are not real.\")\n",
    "(Note: Roots of a quadratic equation are real if the discriminant (b² - 4ac) is non-negative. The roots are given by (-b ± √(b² - 4ac)) / (2a).)"
   ]
  },
  {
   "cell_type": "code",
   "execution_count": null,
   "id": "def8de88",
   "metadata": {},
   "outputs": [],
   "source": [
    "a = float(input(\"Enter a: \"))\n",
    "b = float(input(\"Enter b: \"))\n",
    "c = float(input(\"Enter c: \"))\n",
    "discriminant = b * b - 4 * a * c\n",
    "if discriminant >= 0:\n",
    "    root1 = (-b + (discriminant ** 0.5)) / (2 * a)\n",
    "    root2 = (-b - (discriminant ** 0.5)) / (2 * a)\n",
    "    print(\"Roots of the equation are\", root1, \"and\", root2)\n",
    "else:\n",
    "    print(\"Sorry the roots are not real.\")"
   ]
  },
  {
   "cell_type": "markdown",
   "id": "fd6f94a6",
   "metadata": {},
   "source": [
    "Write a program that inputs the salary of an employee from the user. It deducts the income tax from the salary on the following basis:\n",
    "\n",
    "20% income tax if the salary is above Rs. 30000.\n",
    "\n",
    "15% income tax if the salary is between Rs. 20000 and Rs. 30000.\n",
    "\n",
    "10% income tax if the salary is below Rs. 20000. The program finally\n",
    " displays salary, income tax and the net salary.\n",
    " "
   ]
  },
  {
   "cell_type": "code",
   "execution_count": null,
   "id": "3fbc6a5a",
   "metadata": {},
   "outputs": [],
   "source": [
    "salary = float(input(\"Enter salary: \"))\n",
    "if salary > 30000:\n",
    "    tax_rate = 0.20\n",
    "elif salary >= 20000 and salary <= 30000:\n",
    "    tax_rate = 0.15\n",
    "else:\n",
    "    tax_rate = 0.10\n",
    "income_tax = salary * tax_rate\n",
    "net_salary = salary - income_tax\n",
    "print(\"Salary:\", salary)\n",
    "print(\"Income tax:\", income_tax)\n",
    "print(\"Net salary:\", net_salary)"
   ]
  },
  {
   "cell_type": "markdown",
   "id": "985d422e",
   "metadata": {},
   "source": [
    "Write a program that inputs year and month. It displays the number of days in the month of the year entered by the user. For example, if the user enters 2010 in year and 3 in month, the program should display \"March 2010 has 31 days\".\n",
    "\n",
    "(Note: To determine the number of days, we need to account for leap years for February. A year is a leap year if it is divisible by 4, but if divisible by 100, it must also be divisible by 400.)"
   ]
  },
  {
   "cell_type": "code",
   "execution_count": null,
   "id": "7d8c74fe",
   "metadata": {},
   "outputs": [],
   "source": [
    "year = int(input(\"Enter year: \"))\n",
    "month = int(input(\"Enter month (1-12): \"))\n",
    "if month == 1:\n",
    "    month_name = \"January\"\n",
    "    days = 31\n",
    "elif month == 2:\n",
    "    month_name = \"February\"\n",
    "    if year % 400 == 0 or (year % 4 == 0 and year % 100 != 0):\n",
    "        days = 29\n",
    "    else:\n",
    "        days = 28\n",
    "elif month == 3:\n",
    "    month_name = \"March\"\n",
    "    days = 31\n",
    "elif month == 4:\n",
    "    month_name = \"April\"\n",
    "    days = 30\n",
    "elif month == 5:\n",
    "    month_name = \"May\"\n",
    "    days = 31\n",
    "elif month == 6:\n",
    "    month_name = \"June\"\n",
    "    days = 30\n",
    "elif month == 7:\n",
    "    month_name = \"July\"\n",
    "    days = 31\n",
    "elif month == 8:\n",
    "    month_name = \"August\"\n",
    "    days = 31\n",
    "elif month == 9:\n",
    "    month_name = \"September\"\n",
    "    days = 30\n",
    "elif month == 10:\n",
    "    month_name = \"October\"\n",
    "    days = 31\n",
    "elif month == 11:\n",
    "    month_name = \"November\"\n",
    "    days = 30\n",
    "else:\n",
    "    month_name = \"December\"\n",
    "    days = 31\n",
    "print(month_name, year, \"has\", days, \"days\")"
   ]
  }
 ],
 "metadata": {
  "kernelspec": {
   "display_name": "Python 3",
   "language": "python",
   "name": "python3"
  },
  "language_info": {
   "codemirror_mode": {
    "name": "ipython",
    "version": 3
   },
   "file_extension": ".py",
   "mimetype": "text/x-python",
   "name": "python",
   "nbconvert_exporter": "python",
   "pygments_lexer": "ipython3",
   "version": "3.13.3"
  }
 },
 "nbformat": 4,
 "nbformat_minor": 5
}
